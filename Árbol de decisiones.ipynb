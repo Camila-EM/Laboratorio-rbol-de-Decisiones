{
 "cells": [
  {
   "cell_type": "code",
   "execution_count": 8,
   "id": "f7382bb5",
   "metadata": {},
   "outputs": [],
   "source": [
    "from sklearn import tree\n",
    "\n",
    "caracteristicas =[[170,50,1],[170,50,1.5],[165,90,0],[165,90,0]]\n",
    "labels = [\"Peso ideal(0)\",\"Peso ideal(0)\",\"Sobrepeso(1)\",\"Sobrepeso(1)\"]"
   ]
  },
  {
   "cell_type": "code",
   "execution_count": 11,
   "id": "786d17a3",
   "metadata": {},
   "outputs": [
    {
     "name": "stdout",
     "output_type": "stream",
     "text": [
      "['Sobrepeso(1)']\n"
     ]
    }
   ],
   "source": [
    "classifier = tree.DecisionTreeClassifier()\n",
    "classifier.fit(caracteristicas,labels)\n",
    "res = classifier.predict([[160,100,0]])\n",
    "print (res)"
   ]
  },
  {
   "cell_type": "code",
   "execution_count": null,
   "id": "0cf29be9",
   "metadata": {},
   "outputs": [],
   "source": []
  }
 ],
 "metadata": {
  "kernelspec": {
   "display_name": "Python 3 (ipykernel)",
   "language": "python",
   "name": "python3"
  },
  "language_info": {
   "codemirror_mode": {
    "name": "ipython",
    "version": 3
   },
   "file_extension": ".py",
   "mimetype": "text/x-python",
   "name": "python",
   "nbconvert_exporter": "python",
   "pygments_lexer": "ipython3",
   "version": "3.9.7"
  }
 },
 "nbformat": 4,
 "nbformat_minor": 5
}
